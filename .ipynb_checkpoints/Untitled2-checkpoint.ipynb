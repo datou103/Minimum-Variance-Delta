{
 "cells": [
  {
   "cell_type": "code",
   "execution_count": 2,
   "metadata": {},
   "outputs": [],
   "source": [
    "import pandas as pd\n",
    "import numpy as np\n",
    "import mibian\n",
    "import math\n",
    "from scipy.stats import norm\n",
    "import matplotlib.pyplot as plt\n",
    "import statsmodels.api as sm \n",
    "import py_vollib \n",
    "import py_vollib.black_scholes.implied_volatility as biv\n",
    "#import py_vollib.black.implied_volatility as biv\n",
    "from py_vollib.black_scholes import black_scholes as bs"
   ]
  },
  {
   "cell_type": "code",
   "execution_count": null,
   "metadata": {},
   "outputs": [],
   "source": [
    "#OptionList = pd.read_csv(\"nifty_311221_070122_1min.csv\",index_col=0)\n",
    "OptionList = pd.read_csv(\"nifty_311221_190122_1min.csv\",index_col=0)"
   ]
  },
  {
   "cell_type": "code",
   "execution_count": null,
   "metadata": {},
   "outputs": [],
   "source": [
    "# see reference: https://github.com/yassinemaaroufi/MibianLib\n",
    "def calculateIV(row):\n",
    "    s = row['fut_price']\n",
    "    k = row['strike']\n",
    "    r = 0\n",
    "    t = row['days_to_expiry']\n",
    "    price = row['opt_price']\n",
    "    if row['instrument_type'] == 'CE':\n",
    "        bs = mibian.BS([s,k,r,t],callPrice=price)\n",
    "    elif row['instrument_type'] == 'PE':\n",
    "        bs = mibian.BS([s,k,r,t],putPrice=price)\n",
    "    return bs.impliedVolatility\n",
    "\n",
    "def calculateDelta(row):\n",
    "    s = row['fut_price']\n",
    "    k = row['strike']\n",
    "    r = 0\n",
    "    t = row['days_to_expiry']\n",
    "    v = row['IV']\n",
    "    bs = mibian.BS([s,k,r,t],volatility=v)\n",
    "    if row['instrument_type'] == 'CE':\n",
    "        res = bs.callDelta\n",
    "    elif row['instrument_type'] == 'PE':\n",
    "        res = bs.putDelta\n",
    "    return res\n",
    "\n",
    "def calculateVega(row):\n",
    "    s = row['fut_price']\n",
    "    k = row['strike']\n",
    "    r = 0\n",
    "    t = row['days_to_expiry']\n",
    "    v = row['IV']\n",
    "    bs = mibian.BS([s,k,r,t],volatility=v)\n",
    "    return bs.vega"
   ]
  },
  {
   "cell_type": "code",
   "execution_count": null,
   "metadata": {},
   "outputs": [],
   "source": [
    "def calculateIV_py_vollib(row):\n",
    "    s = row['fut_price']\n",
    "    k = row['strike']\n",
    "    r = 0\n",
    "    t = row['days_to_expiry']/252\n",
    "    price = row['opt_price']\n",
    "    if row['instrument_type'] == 'CE':\n",
    "        iv = biv.implied_volatility(price, s, k, t, r, 'c')\n",
    "    elif row['instrument_type'] == 'PE':\n",
    "        iv = biv.implied_volatility(price, s, k, t, r, 'p')\n",
    "    return iv"
   ]
  },
  {
   "cell_type": "code",
   "execution_count": null,
   "metadata": {},
   "outputs": [],
   "source": [
    "Calls = OptionList[OptionList['instrument_type']=='CE']\n",
    "Calls = Calls[Calls['fut_price'] - Calls['strike'] <= Calls['opt_price']]"
   ]
  },
  {
   "cell_type": "code",
   "execution_count": null,
   "metadata": {},
   "outputs": [],
   "source": [
    "%%time\n",
    "#Calls['IV'] = Calls.apply(calculateIV,axis=1)\n",
    "Calls['IV'] = Calls.apply(calculateIV_py_vollib,axis=1)\n",
    "Calls['delta'] = Calls.apply(calculateDelta,axis=1)\n",
    "Calls['vega'] = Calls.apply(calculateVega,axis=1)\n",
    "Calls.to_csv('nifty_311221_190122_1min_calls.csv')"
   ]
  }
 ],
 "metadata": {
  "kernelspec": {
   "display_name": "Python 3",
   "language": "python",
   "name": "python3"
  },
  "language_info": {
   "codemirror_mode": {
    "name": "ipython",
    "version": 3
   },
   "file_extension": ".py",
   "mimetype": "text/x-python",
   "name": "python",
   "nbconvert_exporter": "python",
   "pygments_lexer": "ipython3",
   "version": "3.8.5"
  }
 },
 "nbformat": 4,
 "nbformat_minor": 4
}
