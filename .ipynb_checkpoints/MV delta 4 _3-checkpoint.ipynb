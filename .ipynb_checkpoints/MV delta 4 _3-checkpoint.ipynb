{
 "cells": [
  {
   "cell_type": "code",
   "execution_count": 1,
   "metadata": {},
   "outputs": [],
   "source": [
    "import pandas as pd\n",
    "import numpy as np\n",
    "import mibian\n",
    "import math\n",
    "from scipy.stats import norm\n",
    "import matplotlib.pyplot as plt\n",
    "import statsmodels.api as sm \n",
    "import matplotlib.pyplot as plt\n",
    "from datetime import datetime\n",
    "import datetime"
   ]
  },
  {
   "cell_type": "markdown",
   "metadata": {},
   "source": [
    "### Training Model"
   ]
  },
  {
   "cell_type": "code",
   "execution_count": 2,
   "metadata": {},
   "outputs": [],
   "source": [
    "def pre_train_process(df,startIdx,windowLength,isNormalized):\n",
    "    tmp = df.copy()\n",
    "    tmp.reset_index(inplace=True)\n",
    "    train_start_index = startIdx\n",
    "    train_window_length = windowLength\n",
    "    train_end_index = train_start_index+train_window_length-1\n",
    "    tmp = tmp.iloc[train_start_index:train_end_index]\n",
    "    ## normalize the option price change and future price change\n",
    "    if(isNormalized==False):\n",
    "        tmp['opt_price_chg'] = tmp['opt_price'].diff()\n",
    "        tmp['fut_price_chg'] = tmp['fut_price'].diff()\n",
    "        tmp = tmp[tmp['fut_price_chg']!=0]\n",
    "    else:\n",
    "        tmp['opt_price_chg'] = tmp['opt_price'] / tmp['opt_price'].shift()\n",
    "        tmp['fut_price_chg'] = tmp['fut_price'] / tmp['fut_price'].shift()\n",
    "        tmp = tmp[tmp['fut_price_chg']!=1]\n",
    "    tmp = tmp[['ts','opt_price_chg','fut_price_chg','delta','vega','days_to_expiry','fut_price']]\n",
    "    tmp.reset_index(drop=True,inplace=True)\n",
    "    train_set = pd.DataFrame()\n",
    "    coeff = tmp['vega']*tmp['fut_price_chg']/tmp['fut_price']/np.sqrt(tmp['days_to_expiry']/252)\n",
    "    train_set['y'] = (tmp['opt_price_chg'] - tmp['delta']*tmp['fut_price_chg'])\n",
    "    train_set['x1'] = coeff*tmp['delta']\n",
    "    train_set['x2'] = coeff*tmp['delta']**2\n",
    "    train_set.drop(index=0,inplace=True)\n",
    "    return train_set"
   ]
  },
  {
   "cell_type": "code",
   "execution_count": 3,
   "metadata": {},
   "outputs": [],
   "source": [
    "def train_model(train_set):\n",
    "    x = sm.add_constant(train_set.iloc[:,1:])\n",
    "    y = train_set['y']\n",
    "    model = sm.OLS(y,x)\n",
    "    result = model.fit()\n",
    "    return result"
   ]
  },
  {
   "cell_type": "code",
   "execution_count": 24,
   "metadata": {},
   "outputs": [],
   "source": [
    "def predict_MV_delta(df,startIdx,windowLength,result):\n",
    "    tmp = df.copy()\n",
    "    test_start_index = startIdx\n",
    "    test_window_length = windowLength\n",
    "    test_end_index = test_start_index + test_window_length-1\n",
    "    tmp = tmp.iloc[test_start_index:test_end_index]\n",
    "    tmp = tmp[['ts','delta','vega','days_to_expiry','fut_price']]\n",
    "    b0 = result.params[0]\n",
    "    b1 = result.params[1]\n",
    "    b2 = result.params[2]\n",
    "    tmp['y_hat'] = b0+b1*tmp['delta']+b2*tmp['delta']**2\n",
    "    tmp['MV_delta'] = tmp['delta']+tmp['y_hat']*tmp['vega']/tmp['fut_price']/np.sqrt(tmp['days_to_expiry']/252)\n",
    "    tmp.reset_index(inplace=True)\n",
    "    return tmp"
   ]
  },
  {
   "cell_type": "markdown",
   "metadata": {},
   "source": [
    "### Read in data"
   ]
  },
  {
   "cell_type": "code",
   "execution_count": 5,
   "metadata": {},
   "outputs": [],
   "source": [
    "Calls = pd.read_csv('nifty_311221_190122_1min_calls_py_vollib.csv')\n",
    "contractList = Calls['opt_symbol'].unique()\n",
    "#contractList"
   ]
  },
  {
   "cell_type": "code",
   "execution_count": 6,
   "metadata": {},
   "outputs": [],
   "source": [
    "def generate_MV_delta(contractName,trainStartIdx,trainLength,isNormalized,predictMVdeltaLength):\n",
    "    contract = Calls[Calls['opt_symbol']==contractName]\n",
    "    train_set = pre_train_process(contract,trainStartIdx,trainLength,isNormalized)\n",
    "    result = train_model(train_set)\n",
    "    print(\"result rsquared: \",result.rsquared)\n",
    "    predict_set = predict_MV_delta(contract,trainStartIdx+trainLength,predictMVdeltaLength,result)\n",
    "    return predict_set"
   ]
  },
  {
   "cell_type": "markdown",
   "metadata": {},
   "source": [
    "### generate_MV_delta2 takes option name, predicted date, wheather to normalize data and rsquare threshold to genearte predicted MV_delta"
   ]
  },
  {
   "cell_type": "code",
   "execution_count": 28,
   "metadata": {},
   "outputs": [],
   "source": [
    "def generate_MV_delta2(contractName,Date,isNormalized,threshold):\n",
    "    contract = Calls[Calls['opt_symbol']==contractName].copy()\n",
    "    contract.reset_index(inplace=True,drop=True)\n",
    "    idx = contract.index[contract['ts']<=Date].tolist()[-1]\n",
    "    #print(\"available data rows:\", idx)\n",
    "    i = 200\n",
    "    rsquare = 0\n",
    "    while(rsquare<threshold and i <= idx):\n",
    "        train_set = pre_train_process(contract,idx-i,i,isNormalized)\n",
    "        result = train_model(train_set)\n",
    "        rsquare = result.rsquared\n",
    "        i += 10\n",
    "    if rsquare < threshold:\n",
    "        print('WARNING: not enough data to make the regression model stable!')\n",
    "    #print('i: ',i)\n",
    "    #print(\"result rsquared: \",result.rsquared)\n",
    "    #print(result.summary())\n",
    "    predict_set = predict_MV_delta(contract,idx,2,result)\n",
    "    return predict_set"
   ]
  },
  {
   "cell_type": "markdown",
   "metadata": {},
   "source": [
    "### Back Test"
   ]
  },
  {
   "cell_type": "code",
   "execution_count": 42,
   "metadata": {},
   "outputs": [],
   "source": [
    "contractName = 'NIFTY22JAN17750CE'\n",
    "contract = Calls[Calls['opt_symbol']==contractName]\n",
    "#contract.reset_index(inplace=True,drop=True)\n",
    "#contract"
   ]
  },
  {
   "cell_type": "code",
   "execution_count": 38,
   "metadata": {},
   "outputs": [],
   "source": [
    "def generate_deltas(contractName,startDate,nDays,threshold):\n",
    "    date = startDate\n",
    "    res = pd.DataFrame(columns=['index','ts','delta','vega','days_to_expiry','fut_price','y_hat','MV_delta'])\n",
    "    for i in range(0,nDays):\n",
    "        predicted = generate_MV_delta2(contractName,date.strftime(\"%Y-%m-%d, %H:%M:%S\"),True,threshold)\n",
    "        res = res.append(predicted)\n",
    "        date = date+datetime.timedelta(1)\n",
    "    return res"
   ]
  },
  {
   "cell_type": "code",
   "execution_count": 81,
   "metadata": {},
   "outputs": [
    {
     "name": "stdout",
     "output_type": "stream",
     "text": [
      "WARNING: not enough data to make the regression model stable!\n",
      "WARNING: not enough data to make the regression model stable!\n",
      "WARNING: not enough data to make the regression model stable!\n",
      "WARNING: not enough data to make the regression model stable!\n",
      "WARNING: not enough data to make the regression model stable!\n",
      "WARNING: not enough data to make the regression model stable!\n",
      "WARNING: not enough data to make the regression model stable!\n"
     ]
    },
    {
     "data": {
      "text/html": [
       "<div>\n",
       "<style scoped>\n",
       "    .dataframe tbody tr th:only-of-type {\n",
       "        vertical-align: middle;\n",
       "    }\n",
       "\n",
       "    .dataframe tbody tr th {\n",
       "        vertical-align: top;\n",
       "    }\n",
       "\n",
       "    .dataframe thead th {\n",
       "        text-align: right;\n",
       "    }\n",
       "</style>\n",
       "<table border=\"1\" class=\"dataframe\">\n",
       "  <thead>\n",
       "    <tr style=\"text-align: right;\">\n",
       "      <th></th>\n",
       "      <th>level_0</th>\n",
       "      <th>index</th>\n",
       "      <th>ts</th>\n",
       "      <th>delta</th>\n",
       "      <th>vega</th>\n",
       "      <th>days_to_expiry</th>\n",
       "      <th>fut_price</th>\n",
       "      <th>y_hat</th>\n",
       "      <th>MV_delta</th>\n",
       "    </tr>\n",
       "  </thead>\n",
       "  <tbody>\n",
       "    <tr>\n",
       "      <th>0</th>\n",
       "      <td>0</td>\n",
       "      <td>373</td>\n",
       "      <td>2022-01-03 15:29:00</td>\n",
       "      <td>0.056058</td>\n",
       "      <td>339.884683</td>\n",
       "      <td>24.001042</td>\n",
       "      <td>17692.35</td>\n",
       "      <td>0.516548</td>\n",
       "      <td>0.088212</td>\n",
       "    </tr>\n",
       "    <tr>\n",
       "      <th>1</th>\n",
       "      <td>0</td>\n",
       "      <td>748</td>\n",
       "      <td>2022-01-04 15:29:00</td>\n",
       "      <td>0.075719</td>\n",
       "      <td>336.402898</td>\n",
       "      <td>23.001042</td>\n",
       "      <td>17856.00</td>\n",
       "      <td>-0.371757</td>\n",
       "      <td>0.052537</td>\n",
       "    </tr>\n",
       "    <tr>\n",
       "      <th>2</th>\n",
       "      <td>0</td>\n",
       "      <td>1123</td>\n",
       "      <td>2022-01-05 15:29:00</td>\n",
       "      <td>0.093009</td>\n",
       "      <td>330.690544</td>\n",
       "      <td>22.001042</td>\n",
       "      <td>17946.20</td>\n",
       "      <td>-0.465342</td>\n",
       "      <td>0.063988</td>\n",
       "    </tr>\n",
       "    <tr>\n",
       "      <th>3</th>\n",
       "      <td>0</td>\n",
       "      <td>1498</td>\n",
       "      <td>2022-01-06 15:29:00</td>\n",
       "      <td>0.067604</td>\n",
       "      <td>320.141028</td>\n",
       "      <td>21.001042</td>\n",
       "      <td>17795.00</td>\n",
       "      <td>-0.104558</td>\n",
       "      <td>0.061088</td>\n",
       "    </tr>\n",
       "    <tr>\n",
       "      <th>4</th>\n",
       "      <td>0</td>\n",
       "      <td>1873</td>\n",
       "      <td>2022-01-07 15:29:00</td>\n",
       "      <td>0.068333</td>\n",
       "      <td>314.256085</td>\n",
       "      <td>20.001042</td>\n",
       "      <td>17852.20</td>\n",
       "      <td>-0.125201</td>\n",
       "      <td>0.060510</td>\n",
       "    </tr>\n",
       "    <tr>\n",
       "      <th>5</th>\n",
       "      <td>0</td>\n",
       "      <td>1873</td>\n",
       "      <td>2022-01-07 15:29:00</td>\n",
       "      <td>0.068333</td>\n",
       "      <td>314.256085</td>\n",
       "      <td>20.001042</td>\n",
       "      <td>17852.20</td>\n",
       "      <td>-0.125201</td>\n",
       "      <td>0.060510</td>\n",
       "    </tr>\n",
       "    <tr>\n",
       "      <th>6</th>\n",
       "      <td>0</td>\n",
       "      <td>1873</td>\n",
       "      <td>2022-01-07 15:29:00</td>\n",
       "      <td>0.068333</td>\n",
       "      <td>314.256085</td>\n",
       "      <td>20.001042</td>\n",
       "      <td>17852.20</td>\n",
       "      <td>-0.125201</td>\n",
       "      <td>0.060510</td>\n",
       "    </tr>\n",
       "  </tbody>\n",
       "</table>\n",
       "</div>"
      ],
      "text/plain": [
       "   level_0 index                   ts     delta        vega  days_to_expiry  \\\n",
       "0        0   373  2022-01-03 15:29:00  0.056058  339.884683       24.001042   \n",
       "1        0   748  2022-01-04 15:29:00  0.075719  336.402898       23.001042   \n",
       "2        0  1123  2022-01-05 15:29:00  0.093009  330.690544       22.001042   \n",
       "3        0  1498  2022-01-06 15:29:00  0.067604  320.141028       21.001042   \n",
       "4        0  1873  2022-01-07 15:29:00  0.068333  314.256085       20.001042   \n",
       "5        0  1873  2022-01-07 15:29:00  0.068333  314.256085       20.001042   \n",
       "6        0  1873  2022-01-07 15:29:00  0.068333  314.256085       20.001042   \n",
       "\n",
       "   fut_price     y_hat  MV_delta  \n",
       "0   17692.35  0.516548  0.088212  \n",
       "1   17856.00 -0.371757  0.052537  \n",
       "2   17946.20 -0.465342  0.063988  \n",
       "3   17795.00 -0.104558  0.061088  \n",
       "4   17852.20 -0.125201  0.060510  \n",
       "5   17852.20 -0.125201  0.060510  \n",
       "6   17852.20 -0.125201  0.060510  "
      ]
     },
     "execution_count": 81,
     "metadata": {},
     "output_type": "execute_result"
    }
   ],
   "source": [
    "contractName = 'NIFTY22JAN18750CE'\n",
    "startDate = datetime.datetime(2022,1,3,15,25)\n",
    "res = generate_deltas(contractName,startDate,7,0.9)\n",
    "res = res.reset_index()\n",
    "res"
   ]
  },
  {
   "cell_type": "code",
   "execution_count": 79,
   "metadata": {},
   "outputs": [],
   "source": [
    "def calculate_PnL(df):\n",
    "    PnLs = pd.DataFrame(columns=['Delta_PnL','MV_delta_PnL'])\n",
    "    for index, row in df.iterrows():\n",
    "        if(index>0):\n",
    "            delta_PnL = (row['fut_price'] - df.iloc[index-1]['fut_price'])*df.iloc[index-1]['delta']\n",
    "            MV_delta_PnL = (row['fut_price'] - df.iloc[index-1]['fut_price'])*df.iloc[index-1]['MV_delta']\n",
    "            df_tmp = pd.DataFrame({'Delta_PnL':[delta_PnL],'MV_delta_PnL':[MV_delta_PnL]})\n",
    "            PnLs = PnLs.append(df_tmp)\n",
    "    return PnLs"
   ]
  },
  {
   "cell_type": "code",
   "execution_count": 82,
   "metadata": {},
   "outputs": [
    {
     "data": {
      "text/html": [
       "<div>\n",
       "<style scoped>\n",
       "    .dataframe tbody tr th:only-of-type {\n",
       "        vertical-align: middle;\n",
       "    }\n",
       "\n",
       "    .dataframe tbody tr th {\n",
       "        vertical-align: top;\n",
       "    }\n",
       "\n",
       "    .dataframe thead th {\n",
       "        text-align: right;\n",
       "    }\n",
       "</style>\n",
       "<table border=\"1\" class=\"dataframe\">\n",
       "  <thead>\n",
       "    <tr style=\"text-align: right;\">\n",
       "      <th></th>\n",
       "      <th>Delta_PnL</th>\n",
       "      <th>MV_delta_PnL</th>\n",
       "    </tr>\n",
       "  </thead>\n",
       "  <tbody>\n",
       "    <tr>\n",
       "      <th>0</th>\n",
       "      <td>9.173817</td>\n",
       "      <td>14.435903</td>\n",
       "    </tr>\n",
       "    <tr>\n",
       "      <th>0</th>\n",
       "      <td>6.829873</td>\n",
       "      <td>4.738809</td>\n",
       "    </tr>\n",
       "    <tr>\n",
       "      <th>0</th>\n",
       "      <td>-14.062886</td>\n",
       "      <td>-9.675035</td>\n",
       "    </tr>\n",
       "    <tr>\n",
       "      <th>0</th>\n",
       "      <td>3.866939</td>\n",
       "      <td>3.494224</td>\n",
       "    </tr>\n",
       "    <tr>\n",
       "      <th>0</th>\n",
       "      <td>0.000000</td>\n",
       "      <td>0.000000</td>\n",
       "    </tr>\n",
       "    <tr>\n",
       "      <th>0</th>\n",
       "      <td>0.000000</td>\n",
       "      <td>0.000000</td>\n",
       "    </tr>\n",
       "  </tbody>\n",
       "</table>\n",
       "</div>"
      ],
      "text/plain": [
       "   Delta_PnL  MV_delta_PnL\n",
       "0   9.173817     14.435903\n",
       "0   6.829873      4.738809\n",
       "0 -14.062886     -9.675035\n",
       "0   3.866939      3.494224\n",
       "0   0.000000      0.000000\n",
       "0   0.000000      0.000000"
      ]
     },
     "execution_count": 82,
     "metadata": {},
     "output_type": "execute_result"
    }
   ],
   "source": [
    "pnls = calculate_PnL(res)\n",
    "pnls"
   ]
  },
  {
   "cell_type": "code",
   "execution_count": null,
   "metadata": {},
   "outputs": [],
   "source": []
  }
 ],
 "metadata": {
  "kernelspec": {
   "display_name": "Python 3",
   "language": "python",
   "name": "python3"
  },
  "language_info": {
   "codemirror_mode": {
    "name": "ipython",
    "version": 3
   },
   "file_extension": ".py",
   "mimetype": "text/x-python",
   "name": "python",
   "nbconvert_exporter": "python",
   "pygments_lexer": "ipython3",
   "version": "3.8.5"
  }
 },
 "nbformat": 4,
 "nbformat_minor": 4
}
