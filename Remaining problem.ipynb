{
 "cells": [
  {
   "cell_type": "markdown",
   "metadata": {},
   "source": [
    "# Back up some issue to be further explored"
   ]
  },
  {
   "cell_type": "markdown",
   "metadata": {},
   "source": [
    "### IV calculated using mibian is different from what I have drafted by myself"
   ]
  },
  {
   "cell_type": "code",
   "execution_count": 1,
   "metadata": {},
   "outputs": [],
   "source": [
    "import pandas as pd\n",
    "import numpy as np\n",
    "import mibian\n",
    "import math\n",
    "from scipy.stats import norm\n",
    "import matplotlib.pyplot as plt"
   ]
  },
  {
   "cell_type": "code",
   "execution_count": 2,
   "metadata": {},
   "outputs": [
    {
     "data": {
      "text/html": [
       "<div>\n",
       "<style scoped>\n",
       "    .dataframe tbody tr th:only-of-type {\n",
       "        vertical-align: middle;\n",
       "    }\n",
       "\n",
       "    .dataframe tbody tr th {\n",
       "        vertical-align: top;\n",
       "    }\n",
       "\n",
       "    .dataframe thead th {\n",
       "        text-align: right;\n",
       "    }\n",
       "</style>\n",
       "<table border=\"1\" class=\"dataframe\">\n",
       "  <thead>\n",
       "    <tr style=\"text-align: right;\">\n",
       "      <th></th>\n",
       "      <th>date</th>\n",
       "      <th>opt_price</th>\n",
       "      <th>volume_x</th>\n",
       "      <th>opt_symbol</th>\n",
       "      <th>fut_price</th>\n",
       "      <th>volume_y</th>\n",
       "      <th>fut_symbol</th>\n",
       "      <th>name</th>\n",
       "      <th>expiry</th>\n",
       "      <th>strike</th>\n",
       "      <th>instrument_type</th>\n",
       "      <th>ts</th>\n",
       "      <th>days_to_expiry</th>\n",
       "    </tr>\n",
       "    <tr>\n",
       "      <th>index</th>\n",
       "      <th></th>\n",
       "      <th></th>\n",
       "      <th></th>\n",
       "      <th></th>\n",
       "      <th></th>\n",
       "      <th></th>\n",
       "      <th></th>\n",
       "      <th></th>\n",
       "      <th></th>\n",
       "      <th></th>\n",
       "      <th></th>\n",
       "      <th></th>\n",
       "      <th></th>\n",
       "    </tr>\n",
       "  </thead>\n",
       "  <tbody>\n",
       "    <tr>\n",
       "      <th>0</th>\n",
       "      <td>2021-12-31 09:15:00+05:30</td>\n",
       "      <td>493.10</td>\n",
       "      <td>5400</td>\n",
       "      <td>NIFTY22JAN17000CE</td>\n",
       "      <td>17311.0</td>\n",
       "      <td>174100</td>\n",
       "      <td>NIFTY22JANFUT</td>\n",
       "      <td>NIFTY</td>\n",
       "      <td>2022/1/27 15:30</td>\n",
       "      <td>17000</td>\n",
       "      <td>CE</td>\n",
       "      <td>2021/12/31 9:15</td>\n",
       "      <td>27.260764</td>\n",
       "    </tr>\n",
       "    <tr>\n",
       "      <th>1</th>\n",
       "      <td>2021-12-31 09:15:00+05:30</td>\n",
       "      <td>82.95</td>\n",
       "      <td>0</td>\n",
       "      <td>NIFTY22JAN17850CE</td>\n",
       "      <td>17311.0</td>\n",
       "      <td>174100</td>\n",
       "      <td>NIFTY22JANFUT</td>\n",
       "      <td>NIFTY</td>\n",
       "      <td>2022/1/27 15:30</td>\n",
       "      <td>17850</td>\n",
       "      <td>CE</td>\n",
       "      <td>2021/12/31 9:15</td>\n",
       "      <td>27.260764</td>\n",
       "    </tr>\n",
       "    <tr>\n",
       "      <th>2</th>\n",
       "      <td>2021-12-31 09:15:00+05:30</td>\n",
       "      <td>600.00</td>\n",
       "      <td>0</td>\n",
       "      <td>NIFTY22JAN17850PE</td>\n",
       "      <td>17311.0</td>\n",
       "      <td>174100</td>\n",
       "      <td>NIFTY22JANFUT</td>\n",
       "      <td>NIFTY</td>\n",
       "      <td>2022/1/27 15:30</td>\n",
       "      <td>17850</td>\n",
       "      <td>PE</td>\n",
       "      <td>2021/12/31 9:15</td>\n",
       "      <td>27.260764</td>\n",
       "    </tr>\n",
       "    <tr>\n",
       "      <th>3</th>\n",
       "      <td>2021-12-31 09:15:00+05:30</td>\n",
       "      <td>74.95</td>\n",
       "      <td>3150</td>\n",
       "      <td>NIFTY22JAN17900CE</td>\n",
       "      <td>17311.0</td>\n",
       "      <td>174100</td>\n",
       "      <td>NIFTY22JANFUT</td>\n",
       "      <td>NIFTY</td>\n",
       "      <td>2022/1/27 15:30</td>\n",
       "      <td>17900</td>\n",
       "      <td>CE</td>\n",
       "      <td>2021/12/31 9:15</td>\n",
       "      <td>27.260764</td>\n",
       "    </tr>\n",
       "    <tr>\n",
       "      <th>4</th>\n",
       "      <td>2021-12-31 09:15:00+05:30</td>\n",
       "      <td>631.20</td>\n",
       "      <td>0</td>\n",
       "      <td>NIFTY22JAN17900PE</td>\n",
       "      <td>17311.0</td>\n",
       "      <td>174100</td>\n",
       "      <td>NIFTY22JANFUT</td>\n",
       "      <td>NIFTY</td>\n",
       "      <td>2022/1/27 15:30</td>\n",
       "      <td>17900</td>\n",
       "      <td>PE</td>\n",
       "      <td>2021/12/31 9:15</td>\n",
       "      <td>27.260764</td>\n",
       "    </tr>\n",
       "  </tbody>\n",
       "</table>\n",
       "</div>"
      ],
      "text/plain": [
       "                            date  opt_price  volume_x         opt_symbol  \\\n",
       "index                                                                      \n",
       "0      2021-12-31 09:15:00+05:30     493.10      5400  NIFTY22JAN17000CE   \n",
       "1      2021-12-31 09:15:00+05:30      82.95         0  NIFTY22JAN17850CE   \n",
       "2      2021-12-31 09:15:00+05:30     600.00         0  NIFTY22JAN17850PE   \n",
       "3      2021-12-31 09:15:00+05:30      74.95      3150  NIFTY22JAN17900CE   \n",
       "4      2021-12-31 09:15:00+05:30     631.20         0  NIFTY22JAN17900PE   \n",
       "\n",
       "       fut_price  volume_y     fut_symbol   name           expiry  strike  \\\n",
       "index                                                                       \n",
       "0        17311.0    174100  NIFTY22JANFUT  NIFTY  2022/1/27 15:30   17000   \n",
       "1        17311.0    174100  NIFTY22JANFUT  NIFTY  2022/1/27 15:30   17850   \n",
       "2        17311.0    174100  NIFTY22JANFUT  NIFTY  2022/1/27 15:30   17850   \n",
       "3        17311.0    174100  NIFTY22JANFUT  NIFTY  2022/1/27 15:30   17900   \n",
       "4        17311.0    174100  NIFTY22JANFUT  NIFTY  2022/1/27 15:30   17900   \n",
       "\n",
       "      instrument_type               ts  days_to_expiry  \n",
       "index                                                   \n",
       "0                  CE  2021/12/31 9:15       27.260764  \n",
       "1                  CE  2021/12/31 9:15       27.260764  \n",
       "2                  PE  2021/12/31 9:15       27.260764  \n",
       "3                  CE  2021/12/31 9:15       27.260764  \n",
       "4                  PE  2021/12/31 9:15       27.260764  "
      ]
     },
     "execution_count": 2,
     "metadata": {},
     "output_type": "execute_result"
    }
   ],
   "source": [
    "OptionList = pd.read_csv(\"nifty_311221_070122_1min.csv\",index_col=0)\n",
    "OptionList.head()"
   ]
  },
  {
   "cell_type": "code",
   "execution_count": 5,
   "metadata": {},
   "outputs": [
    {
     "name": "stdout",
     "output_type": "stream",
     "text": [
      "date               2271\n",
      "opt_price          2271\n",
      "volume_x           2271\n",
      "opt_symbol         2271\n",
      "fut_price          2271\n",
      "volume_y           2271\n",
      "fut_symbol         2271\n",
      "name               2271\n",
      "expiry             2271\n",
      "strike             2271\n",
      "instrument_type    2271\n",
      "ts                 2271\n",
      "days_to_expiry     2271\n",
      "dtype: int64\n"
     ]
    }
   ],
   "source": [
    "callsATM = OptionList[(OptionList['instrument_type']=='CE')&(abs(OptionList['strike'] - OptionList['fut_price']) <= 25)]\n",
    "#callsATM.head()\n",
    "print(callsATM.count())"
   ]
  },
  {
   "cell_type": "code",
   "execution_count": 6,
   "metadata": {},
   "outputs": [
    {
     "name": "stdout",
     "output_type": "stream",
     "text": [
      "date               2271\n",
      "opt_price          2271\n",
      "volume_x           2271\n",
      "opt_symbol         2271\n",
      "fut_price          2271\n",
      "volume_y           2271\n",
      "fut_symbol         2271\n",
      "name               2271\n",
      "expiry             2271\n",
      "strike             2271\n",
      "instrument_type    2271\n",
      "ts                 2271\n",
      "days_to_expiry     2271\n",
      "dtype: int64\n"
     ]
    }
   ],
   "source": [
    "putsATM = OptionList[(OptionList['instrument_type']=='PE')&(abs(OptionList['strike'] - OptionList['fut_price']) <= 25)]\n",
    "#putsATM.describe()\n",
    "print(putsATM.count())"
   ]
  },
  {
   "cell_type": "code",
   "execution_count": 7,
   "metadata": {},
   "outputs": [
    {
     "data": {
      "text/plain": [
       "37.2314453125"
      ]
     },
     "execution_count": 7,
     "metadata": {},
     "output_type": "execute_result"
    }
   ],
   "source": [
    "tmp = mibian.BS([42,40,0.1,132.5],callPrice = 4.76)\n",
    "#tmp = mibian.BS([1.4565, 1.45, 1, 30], callPrice=0.0359)\n",
    "tmp.impliedVolatility"
   ]
  },
  {
   "cell_type": "code",
   "execution_count": 8,
   "metadata": {},
   "outputs": [
    {
     "data": {
      "text/plain": [
       "4.7552259935315035"
      ]
     },
     "execution_count": 8,
     "metadata": {},
     "output_type": "execute_result"
    }
   ],
   "source": [
    "tmp = mibian.BS([42,40,0.1,132.5],volatility = 37.23144)\n",
    "#tmp = mibian.BS([1.4565, 1.45, 1, 30],volatility = 19.22607421875)\n",
    "tmp.callPrice"
   ]
  },
  {
   "cell_type": "code",
   "execution_count": 9,
   "metadata": {},
   "outputs": [],
   "source": [
    "def CallOptionPrice(S0,K,r,T,sigma):\n",
    "    d1 = (math.log(S0/K)+(r+sigma*sigma/2)*T)/(sigma*math.sqrt(T))\n",
    "    #print(\"d1: \",d1)\n",
    "    d2 = d1 - sigma*math.sqrt(T)\n",
    "    #print(\"d2: \",d2)\n",
    "    c = S0*norm.cdf(d1) - K*math.exp(-r*T)*norm.cdf(d2)\n",
    "    #print(c)\n",
    "    return c\n",
    "\n",
    "def CallIV(S0,K,ir,T,callPrice):\n",
    "    l = 0.0\n",
    "    r = 1.0\n",
    "    while(r-l>0.00005):\n",
    "        mid = l+(r-l)/2\n",
    "        tmp = CallOptionPrice(S0,K,ir,T,mid)\n",
    "        print(\"tmp: \",tmp,\"l: \",l,\"r: \",r,\"mid: \",mid)\n",
    "        if(tmp<callPrice):\n",
    "            l = mid\n",
    "        else:\n",
    "            r = mid\n",
    "    return mid"
   ]
  },
  {
   "cell_type": "code",
   "execution_count": 10,
   "metadata": {},
   "outputs": [
    {
     "name": "stdout",
     "output_type": "stream",
     "text": [
      "29.9072265625\n",
      "tmp:  172.17 l:  0.0 r:  1.0 mid:  0.5\n",
      "tmp:  172.17 l:  0.0 r:  0.5 mid:  0.25\n",
      "tmp:  172.17 l:  0.0 r:  0.25 mid:  0.125\n",
      "tmp:  172.17 l:  0.0 r:  0.125 mid:  0.0625\n",
      "tmp:  172.17 l:  0.0 r:  0.0625 mid:  0.03125\n",
      "tmp:  172.17 l:  0.0 r:  0.03125 mid:  0.015625\n",
      "tmp:  172.17 l:  0.0 r:  0.015625 mid:  0.0078125\n",
      "tmp:  172.17 l:  0.0 r:  0.0078125 mid:  0.00390625\n",
      "tmp:  172.17 l:  0.0 r:  0.00390625 mid:  0.001953125\n",
      "tmp:  172.17 l:  0.0 r:  0.001953125 mid:  0.0009765625\n",
      "tmp:  172.17 l:  0.0 r:  0.0009765625 mid:  0.00048828125\n",
      "tmp:  172.17 l:  0.0 r:  0.00048828125 mid:  0.000244140625\n",
      "tmp:  172.17 l:  0.0 r:  0.000244140625 mid:  0.0001220703125\n",
      "tmp:  172.17 l:  0.0 r:  0.0001220703125 mid:  6.103515625e-05\n",
      "tmp:  172.17 l:  0.0 r:  6.103515625e-05 mid:  3.0517578125e-05\n",
      "3.0517578125e-05\n"
     ]
    }
   ],
   "source": [
    "## compare mibian and self made IV calcualtor\n",
    "tmp = mibian.BS([172.17,172.25,0.3,5],callPrice = 2.37)\n",
    "print(tmp.impliedVolatility)\n",
    "print(CallIV(172.17,85,0.3,433,90.73))"
   ]
  },
  {
   "cell_type": "code",
   "execution_count": 11,
   "metadata": {},
   "outputs": [
    {
     "name": "stdout",
     "output_type": "stream",
     "text": [
      "tmp:  5.3090349806033 l:  0.0 r:  1.0 mid:  0.5\n",
      "tmp:  2.912366612550258 l:  0.0 r:  0.5 mid:  0.25\n",
      "tmp:  1.7352883788296936 l:  0.0 r:  0.25 mid:  0.125\n",
      "tmp:  2.319087801023656 l:  0.125 r:  0.25 mid:  0.1875\n",
      "tmp:  2.615046246510701 l:  0.1875 r:  0.25 mid:  0.21875\n",
      "tmp:  2.4668575751880297 l:  0.1875 r:  0.21875 mid:  0.203125\n",
      "tmp:  2.3929140771037254 l:  0.1875 r:  0.203125 mid:  0.1953125\n",
      "tmp:  2.355985395684229 l:  0.1875 r:  0.1953125 mid:  0.19140625\n",
      "tmp:  2.3744459673962126 l:  0.19140625 r:  0.1953125 mid:  0.193359375\n",
      "tmp:  2.3652147250486735 l:  0.19140625 r:  0.193359375 mid:  0.1923828125\n",
      "tmp:  2.3698301089019367 l:  0.1923828125 r:  0.193359375 mid:  0.19287109375\n",
      "tmp:  2.372137979042307 l:  0.19287109375 r:  0.193359375 mid:  0.193115234375\n",
      "tmp:  2.370984029167616 l:  0.19287109375 r:  0.193115234375 mid:  0.1929931640625\n",
      "tmp:  2.3704070653301272 l:  0.19287109375 r:  0.1929931640625 mid:  0.19293212890625\n",
      "tmp:  2.370118586189463 l:  0.19287109375 r:  0.19293212890625 mid:  0.192901611328125\n",
      "0.192901611328125\n"
     ]
    }
   ],
   "source": [
    "print(CallIV(172.17,172.25,0.3,5/252,2.37))"
   ]
  },
  {
   "cell_type": "code",
   "execution_count": 12,
   "metadata": {},
   "outputs": [
    {
     "data": {
      "text/plain": [
       "172.17"
      ]
     },
     "execution_count": 12,
     "metadata": {},
     "output_type": "execute_result"
    }
   ],
   "source": [
    "CallOptionPrice(172.17,85,0.3,433,0.25)"
   ]
  },
  {
   "cell_type": "markdown",
   "metadata": {},
   "source": [
    "### is there a better way to calculate IV of a large data set?"
   ]
  },
  {
   "cell_type": "code",
   "execution_count": null,
   "metadata": {},
   "outputs": [],
   "source": []
  }
 ],
 "metadata": {
  "kernelspec": {
   "display_name": "Python 3",
   "language": "python",
   "name": "python3"
  },
  "language_info": {
   "codemirror_mode": {
    "name": "ipython",
    "version": 3
   },
   "file_extension": ".py",
   "mimetype": "text/x-python",
   "name": "python",
   "nbconvert_exporter": "python",
   "pygments_lexer": "ipython3",
   "version": "3.8.5"
  }
 },
 "nbformat": 4,
 "nbformat_minor": 4
}
