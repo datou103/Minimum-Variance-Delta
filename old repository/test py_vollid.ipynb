{
 "cells": [
  {
   "cell_type": "code",
   "execution_count": 83,
   "metadata": {},
   "outputs": [],
   "source": [
    "import pandas as pd\n",
    "import numpy as np\n",
    "import mibian\n",
    "import math\n",
    "from scipy.stats import norm\n",
    "import matplotlib.pyplot as plt\n",
    "import statsmodels.api as sm \n",
    "import py_vollib \n",
    "#from py_vollib.black_scholes.implied_volatility import implied_volatility as iv\n",
    "import py_vollib.black_scholes.implied_volatility as biv\n",
    "#import py_vollib.black.implied_volatility as biv\n",
    "from py_vollib.black_scholes import black_scholes as bs"
   ]
  },
  {
   "cell_type": "code",
   "execution_count": 93,
   "metadata": {},
   "outputs": [],
   "source": [
    "#OptionList = pd.read_csv(\"nifty_311221_070122_1min.csv\",index_col=0)\n",
    "OptionList = pd.read_csv(\"nifty_311221_190122_1min.csv\",index_col=0)"
   ]
  },
  {
   "cell_type": "code",
   "execution_count": 100,
   "metadata": {},
   "outputs": [
    {
     "data": {
      "text/plain": [
       "date               100\n",
       "opt_price          100\n",
       "volume_x           100\n",
       "opt_symbol         100\n",
       "fut_price          100\n",
       "volume_y           100\n",
       "fut_symbol         100\n",
       "name               100\n",
       "expiry             100\n",
       "strike             100\n",
       "instrument_type    100\n",
       "ts                 100\n",
       "days_to_expiry     100\n",
       "dtype: int64"
      ]
     },
     "execution_count": 100,
     "metadata": {},
     "output_type": "execute_result"
    }
   ],
   "source": [
    "test_set = OptionList[OptionList['instrument_type']=='CE'].iloc[:100,:]\n",
    "test_set.count()"
   ]
  },
  {
   "cell_type": "code",
   "execution_count": 33,
   "metadata": {},
   "outputs": [],
   "source": [
    "# see reference: https://github.com/yassinemaaroufi/MibianLib\n",
    "def calculateIV(row):\n",
    "    s = row['fut_price']\n",
    "    k = row['strike']\n",
    "    r = 0\n",
    "    t = row['days_to_expiry']\n",
    "    price = row['opt_price']\n",
    "    if row['instrument_type'] == 'CE':\n",
    "        bs = mibian.BS([s,k,r,t],callPrice=price)\n",
    "    elif row['instrument_type'] == 'PE':\n",
    "        bs = mibian.BS([s,k,r,t],putPrice=price)\n",
    "    return bs.impliedVolatility\n",
    "\n",
    "def calculateDelta(row):\n",
    "    s = row['fut_price']\n",
    "    k = row['strike']\n",
    "    r = 0\n",
    "    t = row['days_to_expiry']\n",
    "    v = row['IV']\n",
    "    bs = mibian.BS([s,k,r,t],volatility=v)\n",
    "    if row['instrument_type'] == 'CE':\n",
    "        res = bs.callDelta\n",
    "    elif row['instrument_type'] == 'PE':\n",
    "        res = bs.putDelta\n",
    "    return res\n",
    "\n",
    "def calculateVega(row):\n",
    "    s = row['fut_price']\n",
    "    k = row['strike']\n",
    "    r = 0\n",
    "    t = row['days_to_expiry']\n",
    "    v = row['IV']\n",
    "    bs = mibian.BS([s,k,r,t],volatility=v)\n",
    "    return bs.vega"
   ]
  },
  {
   "cell_type": "code",
   "execution_count": 50,
   "metadata": {},
   "outputs": [],
   "source": [
    "def calculateIV_py_vollib(row):\n",
    "    s = row['fut_price']\n",
    "    k = row['strike']\n",
    "    r = 0\n",
    "    t = row['days_to_expiry']/252\n",
    "    price = row['opt_price']\n",
    "    if row['instrument_type'] == 'CE':\n",
    "        iv = biv.implied_volatility(price, s, k, t, r, 'c')\n",
    "    elif row['instrument_type'] == 'PE':\n",
    "        iv = biv.implied_volatility(price, s, k, t, r, 'p')\n",
    "    return iv"
   ]
  },
  {
   "cell_type": "code",
   "execution_count": 71,
   "metadata": {},
   "outputs": [
    {
     "name": "stdout",
     "output_type": "stream",
     "text": [
      "py_vollib iv:  0.14855078758908924\n",
      "py_vollib call price based on implied iv:  544.95\n",
      "market option price:  544.95\n",
      "Wall time: 0 ns\n"
     ]
    }
   ],
   "source": [
    "%%time\n",
    "row = test_set.iloc[1]\n",
    "s = row['fut_price']\n",
    "k = row['strike']\n",
    "r = 0\n",
    "flag = 'c'\n",
    "t = row['days_to_expiry']/252\n",
    "price = row['opt_price']\n",
    "iv = biv.implied_volatility(price, s, k, t, r, flag)\n",
    "bs_price = bs('c',row['fut_price'],row['strike'],row['days_to_expiry']/252,0,iv)\n",
    "print(\"py_vollib iv: \",iv)\n",
    "print(\"py_vollib call price based on implied iv: \", bs_price)\n",
    "print(\"market option price: \", row['opt_price'])"
   ]
  },
  {
   "cell_type": "code",
   "execution_count": 68,
   "metadata": {},
   "outputs": [
    {
     "name": "stdout",
     "output_type": "stream",
     "text": [
      "mibian iv:  17.878055572509766\n",
      "mibian call price based on mibian iv:  544.9494134124106\n",
      "market option price:  544.95\n",
      "Wall time: 10 ms\n"
     ]
    }
   ],
   "source": [
    "%%time\n",
    "row = test_set.iloc[1]\n",
    "iv = calculateIV(row)\n",
    "c = mibian.BS([row['fut_price'],row['strike'],0,row['days_to_expiry']],volatility = iv)\n",
    "print(\"mibian iv: \",iv)\n",
    "print(\"mibian call price based on mibian iv: \", c.callPrice)\n",
    "print(\"market option price: \", row['opt_price'])"
   ]
  },
  {
   "cell_type": "code",
   "execution_count": 72,
   "metadata": {},
   "outputs": [],
   "source": [
    "def bs_call(S, K, T, r, vol):\n",
    "    d1 = (np.log(S/K) + (r + 0.5*vol**2)*T) / (vol*np.sqrt(T))\n",
    "    d2 = d1 - vol * np.sqrt(T)\n",
    "    return S * norm.cdf(d1) - np.exp(-r * T) * K * norm.cdf(d2)"
   ]
  },
  {
   "cell_type": "code",
   "execution_count": 74,
   "metadata": {},
   "outputs": [
    {
     "data": {
      "text/plain": [
       "544.9499999999989"
      ]
     },
     "execution_count": 74,
     "metadata": {},
     "output_type": "execute_result"
    }
   ],
   "source": [
    "bs_call(row['fut_price'],row['strike'],row['days_to_expiry']/252,0,iv)"
   ]
  },
  {
   "cell_type": "code",
   "execution_count": 69,
   "metadata": {},
   "outputs": [
    {
     "data": {
      "text/plain": [
       "17.878055572509766"
      ]
     },
     "execution_count": 69,
     "metadata": {},
     "output_type": "execute_result"
    }
   ],
   "source": [
    "iv"
   ]
  },
  {
   "cell_type": "code",
   "execution_count": 103,
   "metadata": {},
   "outputs": [],
   "source": [
    "test1 = test_set[test_set['fut_price'] - test_set['strike'] <= test_set['opt_price']]"
   ]
  },
  {
   "cell_type": "code",
   "execution_count": 104,
   "metadata": {},
   "outputs": [],
   "source": [
    "test1['iv_py_vollib'] = test1.apply(calculateIV_py_vollib,axis=1)"
   ]
  },
  {
   "cell_type": "code",
   "execution_count": 97,
   "metadata": {},
   "outputs": [
    {
     "name": "stderr",
     "output_type": "stream",
     "text": [
      "<ipython-input-97-8520272cab29>:1: SettingWithCopyWarning: \n",
      "A value is trying to be set on a copy of a slice from a DataFrame\n",
      "\n",
      "See the caveats in the documentation: https://pandas.pydata.org/pandas-docs/stable/user_guide/indexing.html#returning-a-view-versus-a-copy\n",
      "  test1.iloc[0]['iv'] = calculateIV_py_vollib(test1.iloc[0])\n",
      "D:\\Anaconda3\\lib\\site-packages\\pandas\\core\\indexing.py:670: SettingWithCopyWarning: \n",
      "A value is trying to be set on a copy of a slice from a DataFrame\n",
      "\n",
      "See the caveats in the documentation: https://pandas.pydata.org/pandas-docs/stable/user_guide/indexing.html#returning-a-view-versus-a-copy\n",
      "  iloc._setitem_with_indexer(indexer, value)\n"
     ]
    }
   ],
   "source": [
    "test1.iloc[0]['iv'] = calculateIV_py_vollib(test1.iloc[0])"
   ]
  },
  {
   "cell_type": "code",
   "execution_count": 105,
   "metadata": {},
   "outputs": [
    {
     "data": {
      "text/html": [
       "<div>\n",
       "<style scoped>\n",
       "    .dataframe tbody tr th:only-of-type {\n",
       "        vertical-align: middle;\n",
       "    }\n",
       "\n",
       "    .dataframe tbody tr th {\n",
       "        vertical-align: top;\n",
       "    }\n",
       "\n",
       "    .dataframe thead th {\n",
       "        text-align: right;\n",
       "    }\n",
       "</style>\n",
       "<table border=\"1\" class=\"dataframe\">\n",
       "  <thead>\n",
       "    <tr style=\"text-align: right;\">\n",
       "      <th></th>\n",
       "      <th>date</th>\n",
       "      <th>opt_price</th>\n",
       "      <th>volume_x</th>\n",
       "      <th>opt_symbol</th>\n",
       "      <th>fut_price</th>\n",
       "      <th>volume_y</th>\n",
       "      <th>fut_symbol</th>\n",
       "      <th>name</th>\n",
       "      <th>expiry</th>\n",
       "      <th>strike</th>\n",
       "      <th>instrument_type</th>\n",
       "      <th>ts</th>\n",
       "      <th>days_to_expiry</th>\n",
       "      <th>iv_py_vollib</th>\n",
       "    </tr>\n",
       "  </thead>\n",
       "  <tbody>\n",
       "    <tr>\n",
       "      <th>0</th>\n",
       "      <td>2021-12-31 09:15:00+05:30</td>\n",
       "      <td>231.50</td>\n",
       "      <td>0.0</td>\n",
       "      <td>NIFTY22JAN17450CE</td>\n",
       "      <td>17311.0</td>\n",
       "      <td>174100.0</td>\n",
       "      <td>NIFTY22JANFUT</td>\n",
       "      <td>NIFTY</td>\n",
       "      <td>2022-01-27 15:30:30</td>\n",
       "      <td>17450.0</td>\n",
       "      <td>CE</td>\n",
       "      <td>2021-12-31 09:15:00</td>\n",
       "      <td>27.260764</td>\n",
       "      <td>0.129723</td>\n",
       "    </tr>\n",
       "    <tr>\n",
       "      <th>1</th>\n",
       "      <td>2021-12-31 09:15:00+05:30</td>\n",
       "      <td>544.95</td>\n",
       "      <td>0.0</td>\n",
       "      <td>NIFTY22JAN16950CE</td>\n",
       "      <td>17311.0</td>\n",
       "      <td>174100.0</td>\n",
       "      <td>NIFTY22JANFUT</td>\n",
       "      <td>NIFTY</td>\n",
       "      <td>2022-01-27 15:30:30</td>\n",
       "      <td>16950.0</td>\n",
       "      <td>CE</td>\n",
       "      <td>2021-12-31 09:15:00</td>\n",
       "      <td>27.260764</td>\n",
       "      <td>0.148551</td>\n",
       "    </tr>\n",
       "    <tr>\n",
       "      <th>5</th>\n",
       "      <td>2021-12-31 09:15:00+05:30</td>\n",
       "      <td>60.50</td>\n",
       "      <td>0.0</td>\n",
       "      <td>NIFTY22JAN17950CE</td>\n",
       "      <td>17311.0</td>\n",
       "      <td>174100.0</td>\n",
       "      <td>NIFTY22JANFUT</td>\n",
       "      <td>NIFTY</td>\n",
       "      <td>2022-01-27 15:30:30</td>\n",
       "      <td>17950.0</td>\n",
       "      <td>CE</td>\n",
       "      <td>2021-12-31 09:15:00</td>\n",
       "      <td>27.260764</td>\n",
       "      <td>0.115278</td>\n",
       "    </tr>\n",
       "    <tr>\n",
       "      <th>6</th>\n",
       "      <td>2021-12-31 09:15:00+05:30</td>\n",
       "      <td>50.70</td>\n",
       "      <td>0.0</td>\n",
       "      <td>NIFTY22JAN18050CE</td>\n",
       "      <td>17311.0</td>\n",
       "      <td>174100.0</td>\n",
       "      <td>NIFTY22JANFUT</td>\n",
       "      <td>NIFTY</td>\n",
       "      <td>2022-01-27 15:30:30</td>\n",
       "      <td>18050.0</td>\n",
       "      <td>CE</td>\n",
       "      <td>2021-12-31 09:15:00</td>\n",
       "      <td>27.260764</td>\n",
       "      <td>0.119119</td>\n",
       "    </tr>\n",
       "    <tr>\n",
       "      <th>7</th>\n",
       "      <td>2021-12-31 09:15:00+05:30</td>\n",
       "      <td>4.25</td>\n",
       "      <td>0.0</td>\n",
       "      <td>NIFTY22JAN19600CE</td>\n",
       "      <td>17311.0</td>\n",
       "      <td>174100.0</td>\n",
       "      <td>NIFTY22JANFUT</td>\n",
       "      <td>NIFTY</td>\n",
       "      <td>2022-01-27 15:30:30</td>\n",
       "      <td>19600.0</td>\n",
       "      <td>CE</td>\n",
       "      <td>2021-12-31 09:15:00</td>\n",
       "      <td>27.260764</td>\n",
       "      <td>0.167532</td>\n",
       "    </tr>\n",
       "    <tr>\n",
       "      <th>...</th>\n",
       "      <td>...</td>\n",
       "      <td>...</td>\n",
       "      <td>...</td>\n",
       "      <td>...</td>\n",
       "      <td>...</td>\n",
       "      <td>...</td>\n",
       "      <td>...</td>\n",
       "      <td>...</td>\n",
       "      <td>...</td>\n",
       "      <td>...</td>\n",
       "      <td>...</td>\n",
       "      <td>...</td>\n",
       "      <td>...</td>\n",
       "      <td>...</td>\n",
       "    </tr>\n",
       "    <tr>\n",
       "      <th>176</th>\n",
       "      <td>2021-12-31 09:16:00+05:30</td>\n",
       "      <td>59.70</td>\n",
       "      <td>22500.0</td>\n",
       "      <td>NIFTY22JAN18000CE</td>\n",
       "      <td>17332.1</td>\n",
       "      <td>191750.0</td>\n",
       "      <td>NIFTY22JANFUT</td>\n",
       "      <td>NIFTY</td>\n",
       "      <td>2022-01-27 15:30:30</td>\n",
       "      <td>18000.0</td>\n",
       "      <td>CE</td>\n",
       "      <td>2021-12-31 09:16:00</td>\n",
       "      <td>27.260069</td>\n",
       "      <td>0.117820</td>\n",
       "    </tr>\n",
       "    <tr>\n",
       "      <th>177</th>\n",
       "      <td>2021-12-31 09:16:00+05:30</td>\n",
       "      <td>9.30</td>\n",
       "      <td>100.0</td>\n",
       "      <td>NIFTY22JAN18700CE</td>\n",
       "      <td>17332.1</td>\n",
       "      <td>191750.0</td>\n",
       "      <td>NIFTY22JANFUT</td>\n",
       "      <td>NIFTY</td>\n",
       "      <td>2022-01-27 15:30:30</td>\n",
       "      <td>18700.0</td>\n",
       "      <td>CE</td>\n",
       "      <td>2021-12-31 09:16:00</td>\n",
       "      <td>27.260069</td>\n",
       "      <td>0.124858</td>\n",
       "    </tr>\n",
       "    <tr>\n",
       "      <th>178</th>\n",
       "      <td>2021-12-31 09:16:00+05:30</td>\n",
       "      <td>1355.00</td>\n",
       "      <td>650.0</td>\n",
       "      <td>NIFTY22JAN16000CE</td>\n",
       "      <td>17332.1</td>\n",
       "      <td>191750.0</td>\n",
       "      <td>NIFTY22JANFUT</td>\n",
       "      <td>NIFTY</td>\n",
       "      <td>2022-01-27 15:30:30</td>\n",
       "      <td>16000.0</td>\n",
       "      <td>CE</td>\n",
       "      <td>2021-12-31 09:16:00</td>\n",
       "      <td>27.260069</td>\n",
       "      <td>0.157566</td>\n",
       "    </tr>\n",
       "    <tr>\n",
       "      <th>179</th>\n",
       "      <td>2021-12-31 09:16:00+05:30</td>\n",
       "      <td>22.95</td>\n",
       "      <td>6400.0</td>\n",
       "      <td>NIFTY22JAN18300CE</td>\n",
       "      <td>17332.1</td>\n",
       "      <td>191750.0</td>\n",
       "      <td>NIFTY22JANFUT</td>\n",
       "      <td>NIFTY</td>\n",
       "      <td>2022-01-27 15:30:30</td>\n",
       "      <td>18300.0</td>\n",
       "      <td>CE</td>\n",
       "      <td>2021-12-31 09:16:00</td>\n",
       "      <td>27.260069</td>\n",
       "      <td>0.115218</td>\n",
       "    </tr>\n",
       "    <tr>\n",
       "      <th>180</th>\n",
       "      <td>2021-12-31 09:16:00+05:30</td>\n",
       "      <td>6.75</td>\n",
       "      <td>50.0</td>\n",
       "      <td>NIFTY22JAN18950CE</td>\n",
       "      <td>17332.1</td>\n",
       "      <td>191750.0</td>\n",
       "      <td>NIFTY22JANFUT</td>\n",
       "      <td>NIFTY</td>\n",
       "      <td>2022-01-27 15:30:30</td>\n",
       "      <td>18950.0</td>\n",
       "      <td>CE</td>\n",
       "      <td>2021-12-31 09:16:00</td>\n",
       "      <td>27.260069</td>\n",
       "      <td>0.135311</td>\n",
       "    </tr>\n",
       "  </tbody>\n",
       "</table>\n",
       "<p>100 rows × 14 columns</p>\n",
       "</div>"
      ],
      "text/plain": [
       "                          date  opt_price  volume_x         opt_symbol  \\\n",
       "0    2021-12-31 09:15:00+05:30     231.50       0.0  NIFTY22JAN17450CE   \n",
       "1    2021-12-31 09:15:00+05:30     544.95       0.0  NIFTY22JAN16950CE   \n",
       "5    2021-12-31 09:15:00+05:30      60.50       0.0  NIFTY22JAN17950CE   \n",
       "6    2021-12-31 09:15:00+05:30      50.70       0.0  NIFTY22JAN18050CE   \n",
       "7    2021-12-31 09:15:00+05:30       4.25       0.0  NIFTY22JAN19600CE   \n",
       "..                         ...        ...       ...                ...   \n",
       "176  2021-12-31 09:16:00+05:30      59.70   22500.0  NIFTY22JAN18000CE   \n",
       "177  2021-12-31 09:16:00+05:30       9.30     100.0  NIFTY22JAN18700CE   \n",
       "178  2021-12-31 09:16:00+05:30    1355.00     650.0  NIFTY22JAN16000CE   \n",
       "179  2021-12-31 09:16:00+05:30      22.95    6400.0  NIFTY22JAN18300CE   \n",
       "180  2021-12-31 09:16:00+05:30       6.75      50.0  NIFTY22JAN18950CE   \n",
       "\n",
       "     fut_price  volume_y     fut_symbol   name               expiry   strike  \\\n",
       "0      17311.0  174100.0  NIFTY22JANFUT  NIFTY  2022-01-27 15:30:30  17450.0   \n",
       "1      17311.0  174100.0  NIFTY22JANFUT  NIFTY  2022-01-27 15:30:30  16950.0   \n",
       "5      17311.0  174100.0  NIFTY22JANFUT  NIFTY  2022-01-27 15:30:30  17950.0   \n",
       "6      17311.0  174100.0  NIFTY22JANFUT  NIFTY  2022-01-27 15:30:30  18050.0   \n",
       "7      17311.0  174100.0  NIFTY22JANFUT  NIFTY  2022-01-27 15:30:30  19600.0   \n",
       "..         ...       ...            ...    ...                  ...      ...   \n",
       "176    17332.1  191750.0  NIFTY22JANFUT  NIFTY  2022-01-27 15:30:30  18000.0   \n",
       "177    17332.1  191750.0  NIFTY22JANFUT  NIFTY  2022-01-27 15:30:30  18700.0   \n",
       "178    17332.1  191750.0  NIFTY22JANFUT  NIFTY  2022-01-27 15:30:30  16000.0   \n",
       "179    17332.1  191750.0  NIFTY22JANFUT  NIFTY  2022-01-27 15:30:30  18300.0   \n",
       "180    17332.1  191750.0  NIFTY22JANFUT  NIFTY  2022-01-27 15:30:30  18950.0   \n",
       "\n",
       "    instrument_type                   ts  days_to_expiry  iv_py_vollib  \n",
       "0                CE  2021-12-31 09:15:00       27.260764      0.129723  \n",
       "1                CE  2021-12-31 09:15:00       27.260764      0.148551  \n",
       "5                CE  2021-12-31 09:15:00       27.260764      0.115278  \n",
       "6                CE  2021-12-31 09:15:00       27.260764      0.119119  \n",
       "7                CE  2021-12-31 09:15:00       27.260764      0.167532  \n",
       "..              ...                  ...             ...           ...  \n",
       "176              CE  2021-12-31 09:16:00       27.260069      0.117820  \n",
       "177              CE  2021-12-31 09:16:00       27.260069      0.124858  \n",
       "178              CE  2021-12-31 09:16:00       27.260069      0.157566  \n",
       "179              CE  2021-12-31 09:16:00       27.260069      0.115218  \n",
       "180              CE  2021-12-31 09:16:00       27.260069      0.135311  \n",
       "\n",
       "[100 rows x 14 columns]"
      ]
     },
     "execution_count": 105,
     "metadata": {},
     "output_type": "execute_result"
    }
   ],
   "source": [
    "test1"
   ]
  },
  {
   "cell_type": "code",
   "execution_count": 106,
   "metadata": {},
   "outputs": [],
   "source": [
    "Calls = OptionList[OptionList['instrument_type']=='CE']\n",
    "Calls = Calls[Calls['fut_price'] - Calls['strike'] <= Calls['opt_price']]"
   ]
  },
  {
   "cell_type": "code",
   "execution_count": 107,
   "metadata": {},
   "outputs": [
    {
     "name": "stdout",
     "output_type": "stream",
     "text": [
      "Wall time: 12min 10s\n"
     ]
    }
   ],
   "source": [
    "%%time\n",
    "#Calls['IV'] = Calls.apply(calculateIV,axis=1)\n",
    "Calls['IV'] = Calls.apply(calculateIV_py_vollib,axis=1)\n",
    "Calls['delta'] = Calls.apply(calculateDelta,axis=1)\n",
    "Calls['vega'] = Calls.apply(calculateVega,axis=1)\n",
    "Calls.to_csv('nifty_311221_190122_1min_calls.csv')"
   ]
  },
  {
   "cell_type": "code",
   "execution_count": null,
   "metadata": {},
   "outputs": [],
   "source": []
  }
 ],
 "metadata": {
  "kernelspec": {
   "display_name": "Python 3",
   "language": "python",
   "name": "python3"
  },
  "language_info": {
   "codemirror_mode": {
    "name": "ipython",
    "version": 3
   },
   "file_extension": ".py",
   "mimetype": "text/x-python",
   "name": "python",
   "nbconvert_exporter": "python",
   "pygments_lexer": "ipython3",
   "version": "3.8.5"
  }
 },
 "nbformat": 4,
 "nbformat_minor": 4
}
