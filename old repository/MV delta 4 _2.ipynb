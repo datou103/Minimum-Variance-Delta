{
 "cells": [
  {
   "cell_type": "code",
   "execution_count": 1,
   "metadata": {},
   "outputs": [],
   "source": [
    "import pandas as pd\n",
    "import numpy as np\n",
    "import mibian\n",
    "import math\n",
    "from scipy.stats import norm\n",
    "import matplotlib.pyplot as plt\n",
    "import statsmodels.api as sm \n",
    "import matplotlib.pyplot as plt"
   ]
  },
  {
   "cell_type": "markdown",
   "metadata": {},
   "source": [
    "### Training Model"
   ]
  },
  {
   "cell_type": "code",
   "execution_count": 2,
   "metadata": {},
   "outputs": [],
   "source": [
    "def pre_train_process(df,startIdx,windowLength,isNormalized):\n",
    "    tmp = df.copy()\n",
    "    tmp.reset_index(inplace=True)\n",
    "    train_start_index = startIdx\n",
    "    train_window_length = windowLength\n",
    "    train_end_index = train_start_index+train_window_length-1\n",
    "    tmp = tmp.iloc[train_start_index:train_end_index]\n",
    "    ## normalize the option price change and future price change\n",
    "    if(isNormalized==False):\n",
    "        tmp['opt_price_chg'] = tmp['opt_price'].diff()\n",
    "        tmp['fut_price_chg'] = tmp['fut_price'].diff()\n",
    "        tmp = tmp[tmp['fut_price_chg']!=0]\n",
    "    else:\n",
    "        tmp['opt_price_chg'] = tmp['opt_price'] / tmp['opt_price'].shift()\n",
    "        tmp['fut_price_chg'] = tmp['fut_price'] / tmp['fut_price'].shift()\n",
    "        tmp = tmp[tmp['fut_price_chg']!=1]\n",
    "    tmp = tmp[['ts','opt_price_chg','fut_price_chg','delta','vega','days_to_expiry','fut_price']]\n",
    "    tmp.reset_index(drop=True,inplace=True)\n",
    "    train_set = pd.DataFrame()\n",
    "    coeff = tmp['vega']*tmp['fut_price_chg']/tmp['fut_price']/np.sqrt(tmp['days_to_expiry']/252)\n",
    "    train_set['y'] = (tmp['opt_price_chg'] - tmp['delta']*tmp['fut_price_chg'])\n",
    "    train_set['x1'] = coeff*tmp['delta']\n",
    "    train_set['x2'] = coeff*tmp['delta']**2\n",
    "    train_set.drop(index=0,inplace=True)\n",
    "    return train_set"
   ]
  },
  {
   "cell_type": "code",
   "execution_count": 3,
   "metadata": {},
   "outputs": [],
   "source": [
    "def train_model(train_set):\n",
    "    x = sm.add_constant(train_set.iloc[:,1:])\n",
    "    y = train_set['y']\n",
    "    model = sm.OLS(y,x)\n",
    "    result = model.fit()\n",
    "    return result"
   ]
  },
  {
   "cell_type": "code",
   "execution_count": 25,
   "metadata": {},
   "outputs": [],
   "source": [
    "def predict_MV_delta(df,startIdx,windowLength,result):\n",
    "    tmp = df.copy()\n",
    "    test_start_index = startIdx\n",
    "    test_window_length = windowLength\n",
    "    test_end_index = test_start_index + test_window_length-1\n",
    "    tmp = tmp.iloc[test_start_index:test_end_index]\n",
    "    tmp = tmp[['ts','delta','vega','days_to_expiry','fut_price']]\n",
    "    b0 = result.params[0]\n",
    "    b1 = result.params[1]\n",
    "    b2 = result.params[2]\n",
    "    tmp['y_hat'] = b0+b1*tmp['delta']+b2*tmp['delta']**2\n",
    "    tmp['MV_delta'] = tmp['delta']+tmp['y_hat']*tmp['vega']/tmp['fut_price']/np.sqrt(tmp['days_to_expiry']/252)\n",
    "    tmp.reset_index(inplace=True)\n",
    "    return tmp"
   ]
  },
  {
   "cell_type": "markdown",
   "metadata": {},
   "source": [
    "### Read in data"
   ]
  },
  {
   "cell_type": "code",
   "execution_count": 5,
   "metadata": {},
   "outputs": [],
   "source": [
    "Calls = pd.read_csv('nifty_311221_190122_1min_calls_py_vollib.csv')\n",
    "contractList = Calls['opt_symbol'].unique()\n",
    "#contractList"
   ]
  },
  {
   "cell_type": "code",
   "execution_count": 6,
   "metadata": {},
   "outputs": [],
   "source": [
    "def generate_MV_delta(contractName,trainStartIdx,trainLength,isNormalized,predictMVdeltaLength):\n",
    "    contract = Calls[Calls['opt_symbol']==contractName]\n",
    "    train_set = pre_train_process(contract,trainStartIdx,trainLength,isNormalized)\n",
    "    result = train_model(train_set)\n",
    "    print(\"result rsquared: \",result.rsquared)\n",
    "    predict_set = predict_MV_delta(contract,trainStartIdx+trainLength,predictMVdeltaLength,result)\n",
    "    return predict_set"
   ]
  },
  {
   "cell_type": "markdown",
   "metadata": {},
   "source": [
    "### generate_MV_delta2 takes option name, predicted date, wheather to normalize data and rsquare threshold to genearte predicted MV_delta"
   ]
  },
  {
   "cell_type": "code",
   "execution_count": 23,
   "metadata": {},
   "outputs": [],
   "source": [
    "def generate_MV_delta2(contractName,Date,isNormalized,threshold):\n",
    "    contract = Calls[Calls['opt_symbol']==contractName].copy()\n",
    "    contract.reset_index(inplace=True,drop=True)\n",
    "    idx = contract.index[contract['ts']<=Date].tolist()[-1]\n",
    "    print(\"available data rows:\", idx)\n",
    "    i = 500\n",
    "    rsquare = 0\n",
    "    while(rsquare<threshold and i <= idx):\n",
    "        train_set = pre_train_process(contract,idx-i,i,isNormalized)\n",
    "        result = train_model(train_set)\n",
    "        rsquare = result.rsquared\n",
    "        i += 10\n",
    "    if rsquare < threshold:\n",
    "        print('WARNING: not enough data to make the regression model stable!')\n",
    "    print('i: ',i)\n",
    "    print(\"result rsquared: \",result.rsquared)\n",
    "    print(result.summary())\n",
    "    predict_set = predict_MV_delta(contract,idx,2,result)\n",
    "    return predict_set"
   ]
  },
  {
   "cell_type": "code",
   "execution_count": 42,
   "metadata": {},
   "outputs": [
    {
     "name": "stdout",
     "output_type": "stream",
     "text": [
      "available data rows: 5249\n",
      "i:  510\n",
      "result rsquared:  0.9537706737650105\n",
      "                            OLS Regression Results                            \n",
      "==============================================================================\n",
      "Dep. Variable:                      y   R-squared:                       0.954\n",
      "Model:                            OLS   Adj. R-squared:                  0.954\n",
      "Method:                 Least Squares   F-statistic:                     5106.\n",
      "Date:                Thu, 03 Feb 2022   Prob (F-statistic):               0.00\n",
      "Time:                        16:18:10   Log-Likelihood:                 1158.2\n",
      "No. Observations:                 498   AIC:                            -2310.\n",
      "Df Residuals:                     495   BIC:                            -2298.\n",
      "Df Model:                           2                                         \n",
      "Covariance Type:            nonrobust                                         \n",
      "==============================================================================\n",
      "                 coef    std err          t      P>|t|      [0.025      0.975]\n",
      "------------------------------------------------------------------------------\n",
      "const          1.0122      0.017     60.803      0.000       0.980       1.045\n",
      "x1           -17.0912      1.512    -11.301      0.000     -20.063     -14.120\n",
      "x2             1.0136      1.944      0.521      0.602      -2.806       4.833\n",
      "==============================================================================\n",
      "Omnibus:                      250.140   Durbin-Watson:                   2.035\n",
      "Prob(Omnibus):                  0.000   Jarque-Bera (JB):             5251.813\n",
      "Skew:                          -1.687   Prob(JB):                         0.00\n",
      "Kurtosis:                      18.547   Cond. No.                     2.31e+03\n",
      "==============================================================================\n",
      "\n",
      "Notes:\n",
      "[1] Standard Errors assume that the covariance matrix of the errors is correctly specified.\n",
      "[2] The condition number is large, 2.31e+03. This might indicate that there are\n",
      "strong multicollinearity or other numerical problems.\n"
     ]
    },
    {
     "data": {
      "text/html": [
       "<div>\n",
       "<style scoped>\n",
       "    .dataframe tbody tr th:only-of-type {\n",
       "        vertical-align: middle;\n",
       "    }\n",
       "\n",
       "    .dataframe tbody tr th {\n",
       "        vertical-align: top;\n",
       "    }\n",
       "\n",
       "    .dataframe thead th {\n",
       "        text-align: right;\n",
       "    }\n",
       "</style>\n",
       "<table border=\"1\" class=\"dataframe\">\n",
       "  <thead>\n",
       "    <tr style=\"text-align: right;\">\n",
       "      <th></th>\n",
       "      <th>index</th>\n",
       "      <th>ts</th>\n",
       "      <th>delta</th>\n",
       "      <th>vega</th>\n",
       "      <th>days_to_expiry</th>\n",
       "      <th>fut_price</th>\n",
       "      <th>y_hat</th>\n",
       "      <th>MV_delta</th>\n",
       "    </tr>\n",
       "  </thead>\n",
       "  <tbody>\n",
       "    <tr>\n",
       "      <th>0</th>\n",
       "      <td>5249</td>\n",
       "      <td>2022-01-19 15:29:00</td>\n",
       "      <td>0.243466</td>\n",
       "      <td>201.242914</td>\n",
       "      <td>8.001042</td>\n",
       "      <td>17975.5</td>\n",
       "      <td>-3.088818</td>\n",
       "      <td>0.049395</td>\n",
       "    </tr>\n",
       "  </tbody>\n",
       "</table>\n",
       "</div>"
      ],
      "text/plain": [
       "   index                   ts     delta        vega  days_to_expiry  \\\n",
       "0   5249  2022-01-19 15:29:00  0.243466  201.242914        8.001042   \n",
       "\n",
       "   fut_price     y_hat  MV_delta  \n",
       "0    17975.5 -3.088818  0.049395  "
      ]
     },
     "execution_count": 42,
     "metadata": {},
     "output_type": "execute_result"
    }
   ],
   "source": [
    "contractName = 'NIFTY22JAN18250CE'\n",
    "tmp = Calls[Calls['opt_symbol']==contract]\n",
    "predicted = generate_MV_delta2(contractName,'2022-01-19 15:29:00',True,0.95)\n",
    "#predicted.iloc[:,[2,7]]\n",
    "predicted"
   ]
  },
  {
   "cell_type": "code",
   "execution_count": null,
   "metadata": {},
   "outputs": [],
   "source": []
  }
 ],
 "metadata": {
  "kernelspec": {
   "display_name": "Python 3",
   "language": "python",
   "name": "python3"
  },
  "language_info": {
   "codemirror_mode": {
    "name": "ipython",
    "version": 3
   },
   "file_extension": ".py",
   "mimetype": "text/x-python",
   "name": "python",
   "nbconvert_exporter": "python",
   "pygments_lexer": "ipython3",
   "version": "3.8.5"
  }
 },
 "nbformat": 4,
 "nbformat_minor": 4
}
